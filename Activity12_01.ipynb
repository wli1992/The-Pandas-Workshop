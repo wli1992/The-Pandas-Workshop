{
  "cells": [
    {
      "cell_type": "markdown",
      "metadata": {
        "id": "view-in-github",
        "colab_type": "text"
      },
      "source": [
        "<a href=\"https://colab.research.google.com/github/wli1992/The-Pandas-Workshop/blob/main/Activity12_01.ipynb\" target=\"_parent\"><img src=\"https://colab.research.google.com/assets/colab-badge.svg\" alt=\"Open In Colab\"/></a>"
      ]
    },
    {
      "cell_type": "code",
      "execution_count": null,
      "id": "c790bb88",
      "metadata": {
        "id": "c790bb88"
      },
      "outputs": [],
      "source": [
        "#\n",
        "# libraries\n",
        "#\n",
        "import pandas as pd\n",
        "import numpy as np\n",
        "#"
      ]
    },
    {
      "cell_type": "code",
      "execution_count": null,
      "id": "a711d9cb",
      "metadata": {
        "id": "a711d9cb"
      },
      "outputs": [],
      "source": [
        "data_fn = 'household_power_consumption.csv'\n",
        "home_elec = \\\n",
        "    pd.read_csv('../datasets/' + data_fn,\n",
        "                sep = ';',\n",
        "                low_memory = False)"
      ]
    },
    {
      "cell_type": "code",
      "execution_count": null,
      "id": "950c585c",
      "metadata": {
        "scrolled": true,
        "id": "950c585c",
        "outputId": "bdcf5004-a01e-4566-8c20-af0998929f11"
      },
      "outputs": [
        {
          "data": {
            "text/html": [
              "<div>\n",
              "<style scoped>\n",
              "    .dataframe tbody tr th:only-of-type {\n",
              "        vertical-align: middle;\n",
              "    }\n",
              "\n",
              "    .dataframe tbody tr th {\n",
              "        vertical-align: top;\n",
              "    }\n",
              "\n",
              "    .dataframe thead th {\n",
              "        text-align: right;\n",
              "    }\n",
              "</style>\n",
              "<table border=\"1\" class=\"dataframe\">\n",
              "  <thead>\n",
              "    <tr style=\"text-align: right;\">\n",
              "      <th></th>\n",
              "      <th>Date</th>\n",
              "      <th>Time</th>\n",
              "      <th>Global_active_power</th>\n",
              "      <th>Global_reactive_power</th>\n",
              "      <th>Voltage</th>\n",
              "      <th>Global_intensity</th>\n",
              "      <th>Sub_metering_1</th>\n",
              "      <th>Sub_metering_2</th>\n",
              "      <th>Sub_metering_3</th>\n",
              "    </tr>\n",
              "  </thead>\n",
              "  <tbody>\n",
              "    <tr>\n",
              "      <th>0</th>\n",
              "      <td>1/8/2008</td>\n",
              "      <td>00:00:00</td>\n",
              "      <td>0.500</td>\n",
              "      <td>0.226</td>\n",
              "      <td>239.750</td>\n",
              "      <td>2.400</td>\n",
              "      <td>0.000</td>\n",
              "      <td>0.000</td>\n",
              "      <td>1.0</td>\n",
              "    </tr>\n",
              "    <tr>\n",
              "      <th>1</th>\n",
              "      <td>1/8/2008</td>\n",
              "      <td>00:01:00</td>\n",
              "      <td>0.482</td>\n",
              "      <td>0.224</td>\n",
              "      <td>240.340</td>\n",
              "      <td>2.200</td>\n",
              "      <td>0.000</td>\n",
              "      <td>0.000</td>\n",
              "      <td>1.0</td>\n",
              "    </tr>\n",
              "    <tr>\n",
              "      <th>2</th>\n",
              "      <td>1/8/2008</td>\n",
              "      <td>00:02:00</td>\n",
              "      <td>0.502</td>\n",
              "      <td>0.234</td>\n",
              "      <td>241.680</td>\n",
              "      <td>2.400</td>\n",
              "      <td>0.000</td>\n",
              "      <td>0.000</td>\n",
              "      <td>0.0</td>\n",
              "    </tr>\n",
              "    <tr>\n",
              "      <th>3</th>\n",
              "      <td>1/8/2008</td>\n",
              "      <td>00:03:00</td>\n",
              "      <td>0.556</td>\n",
              "      <td>0.228</td>\n",
              "      <td>241.750</td>\n",
              "      <td>2.600</td>\n",
              "      <td>0.000</td>\n",
              "      <td>0.000</td>\n",
              "      <td>1.0</td>\n",
              "    </tr>\n",
              "    <tr>\n",
              "      <th>4</th>\n",
              "      <td>1/8/2008</td>\n",
              "      <td>00:04:00</td>\n",
              "      <td>0.854</td>\n",
              "      <td>0.342</td>\n",
              "      <td>241.550</td>\n",
              "      <td>4.000</td>\n",
              "      <td>0.000</td>\n",
              "      <td>1.000</td>\n",
              "      <td>7.0</td>\n",
              "    </tr>\n",
              "  </tbody>\n",
              "</table>\n",
              "</div>"
            ],
            "text/plain": [
              "       Date      Time Global_active_power Global_reactive_power  Voltage  \\\n",
              "0  1/8/2008  00:00:00               0.500                 0.226  239.750   \n",
              "1  1/8/2008  00:01:00               0.482                 0.224  240.340   \n",
              "2  1/8/2008  00:02:00               0.502                 0.234  241.680   \n",
              "3  1/8/2008  00:03:00               0.556                 0.228  241.750   \n",
              "4  1/8/2008  00:04:00               0.854                 0.342  241.550   \n",
              "\n",
              "  Global_intensity Sub_metering_1 Sub_metering_2  Sub_metering_3  \n",
              "0            2.400          0.000          0.000             1.0  \n",
              "1            2.200          0.000          0.000             1.0  \n",
              "2            2.400          0.000          0.000             0.0  \n",
              "3            2.600          0.000          0.000             1.0  \n",
              "4            4.000          0.000          1.000             7.0  "
            ]
          },
          "execution_count": 5,
          "metadata": {},
          "output_type": "execute_result"
        }
      ],
      "source": [
        "home_elec.head()"
      ]
    },
    {
      "cell_type": "code",
      "execution_count": null,
      "id": "f49474f7",
      "metadata": {
        "id": "f49474f7",
        "outputId": "056ae380-8c28-48d5-8082-f6877dffd757"
      },
      "outputs": [
        {
          "data": {
            "text/plain": [
              "Date                      object\n",
              "Time                      object\n",
              "Global_active_power       object\n",
              "Global_reactive_power     object\n",
              "Voltage                   object\n",
              "Global_intensity          object\n",
              "Sub_metering_1            object\n",
              "Sub_metering_2            object\n",
              "Sub_metering_3           float64\n",
              "dtype: object"
            ]
          },
          "execution_count": 6,
          "metadata": {},
          "output_type": "execute_result"
        }
      ],
      "source": [
        "home_elec.dtypes"
      ]
    },
    {
      "cell_type": "code",
      "execution_count": null,
      "id": "f8ac8b96",
      "metadata": {
        "id": "f8ac8b96",
        "outputId": "affaa11b-9fb0-4836-f7d4-6972f3b5aaf0"
      },
      "outputs": [
        {
          "name": "stdout",
          "output_type": "stream",
          "text": [
            "information for column Date:\n",
            " count      1049760\n",
            "unique         729\n",
            "top       6/8/2008\n",
            "freq          1440\n",
            "Name: Date, dtype: object\n",
            "information for column Time:\n",
            " count      1049760\n",
            "unique        1440\n",
            "top       11:17:00\n",
            "freq           729\n",
            "Name: Time, dtype: object\n",
            "information for column Global_active_power:\n",
            " count     1049760\n",
            "unique       3852\n",
            "top             ?\n",
            "freq         9570\n",
            "Name: Global_active_power, dtype: object\n",
            "information for column Global_reactive_power:\n",
            " count     1049760\n",
            "unique        510\n",
            "top         0.000\n",
            "freq       230359\n",
            "Name: Global_reactive_power, dtype: object\n",
            "information for column Voltage:\n",
            " count     1049760\n",
            "unique       2738\n",
            "top             ?\n",
            "freq         9570\n",
            "Name: Voltage, dtype: object\n",
            "information for column Global_intensity:\n",
            " count     1049760\n",
            "unique        207\n",
            "top         1.400\n",
            "freq        81879\n",
            "Name: Global_intensity, dtype: object\n",
            "information for column Sub_metering_1:\n",
            " count     1049760\n",
            "unique         89\n",
            "top         0.000\n",
            "freq       955562\n",
            "Name: Sub_metering_1, dtype: object\n",
            "information for column Sub_metering_2:\n",
            " count     1049760\n",
            "unique         82\n",
            "top         0.000\n",
            "freq       738513\n",
            "Name: Sub_metering_2, dtype: object\n",
            "information for column Sub_metering_3:\n",
            " count    1.040190e+06\n",
            "mean     6.838058e+00\n",
            "std      8.569015e+00\n",
            "min      0.000000e+00\n",
            "25%      0.000000e+00\n",
            "50%      1.000000e+00\n",
            "75%      1.800000e+01\n",
            "max      3.100000e+01\n",
            "Name: Sub_metering_3, dtype: float64\n"
          ]
        }
      ],
      "source": [
        "for col in home_elec.columns:\n",
        "    print('information for column ' +\n",
        "          col +\n",
        "          ':\\n',\n",
        "          home_elec[col].describe())"
      ]
    },
    {
      "cell_type": "code",
      "execution_count": null,
      "id": "afb34247",
      "metadata": {
        "id": "afb34247"
      },
      "outputs": [],
      "source": [
        "home_elec.replace('?', np.nan, inplace = True)\n",
        "home_elec.interpolate(inplace = True)"
      ]
    },
    {
      "cell_type": "code",
      "execution_count": null,
      "id": "5e971cd0",
      "metadata": {
        "id": "5e971cd0"
      },
      "outputs": [],
      "source": [
        "for col in home_elec.columns[2:]:\n",
        "    home_elec[col] = home_elec[col].astype(float)"
      ]
    },
    {
      "cell_type": "code",
      "execution_count": null,
      "id": "17c8921b",
      "metadata": {
        "id": "17c8921b",
        "outputId": "3e7b5870-29ac-48ea-e98f-17ee0b3e85f3"
      },
      "outputs": [
        {
          "data": {
            "text/plain": [
              "<AxesSubplot:xlabel='Date'>"
            ]
          },
          "execution_count": 10,
          "metadata": {},
          "output_type": "execute_result"
        },
        {
          "data": {
            "image/png": "[encoded data removed]",
            "text/plain": [
              "<Figure size 432x288 with 1 Axes>"
            ]
          },
          "metadata": {
            "needs_background": "light"
          },
          "output_type": "display_data"
        }
      ],
      "source": [
        "(home_elec[['Date',\n",
        "            'Sub_metering_1']].\n",
        "             plot(x = 'Date',\n",
        "                  y = 'Sub_metering_1'))"
      ]
    },
    {
      "cell_type": "code",
      "execution_count": null,
      "id": "5596d3e9",
      "metadata": {
        "id": "5596d3e9",
        "outputId": "d4ff6a37-888e-48fe-b300-1b03b41ce5ad"
      },
      "outputs": [
        {
          "data": {
            "text/html": [
              "<div>\n",
              "<style scoped>\n",
              "    .dataframe tbody tr th:only-of-type {\n",
              "        vertical-align: middle;\n",
              "    }\n",
              "\n",
              "    .dataframe tbody tr th {\n",
              "        vertical-align: top;\n",
              "    }\n",
              "\n",
              "    .dataframe thead th {\n",
              "        text-align: right;\n",
              "    }\n",
              "</style>\n",
              "<table border=\"1\" class=\"dataframe\">\n",
              "  <thead>\n",
              "    <tr style=\"text-align: right;\">\n",
              "      <th></th>\n",
              "      <th>Date</th>\n",
              "      <th>Time</th>\n",
              "      <th>Kitchen_power_use</th>\n",
              "    </tr>\n",
              "  </thead>\n",
              "  <tbody>\n",
              "    <tr>\n",
              "      <th>1074636</th>\n",
              "      <td>1/1/2009</td>\n",
              "      <td>00:00:00</td>\n",
              "      <td>0.0</td>\n",
              "    </tr>\n",
              "    <tr>\n",
              "      <th>1074637</th>\n",
              "      <td>1/1/2009</td>\n",
              "      <td>00:01:00</td>\n",
              "      <td>0.0</td>\n",
              "    </tr>\n",
              "    <tr>\n",
              "      <th>1074638</th>\n",
              "      <td>1/1/2009</td>\n",
              "      <td>00:02:00</td>\n",
              "      <td>0.0</td>\n",
              "    </tr>\n",
              "    <tr>\n",
              "      <th>1074639</th>\n",
              "      <td>1/1/2009</td>\n",
              "      <td>00:03:00</td>\n",
              "      <td>0.0</td>\n",
              "    </tr>\n",
              "    <tr>\n",
              "      <th>1074640</th>\n",
              "      <td>1/1/2009</td>\n",
              "      <td>00:04:00</td>\n",
              "      <td>0.0</td>\n",
              "    </tr>\n",
              "  </tbody>\n",
              "</table>\n",
              "</div>"
            ],
            "text/plain": [
              "             Date      Time  Kitchen_power_use\n",
              "1074636  1/1/2009  00:00:00                0.0\n",
              "1074637  1/1/2009  00:01:00                0.0\n",
              "1074638  1/1/2009  00:02:00                0.0\n",
              "1074639  1/1/2009  00:03:00                0.0\n",
              "1074640  1/1/2009  00:04:00                0.0"
            ]
          },
          "execution_count": 11,
          "metadata": {},
          "output_type": "execute_result"
        }
      ],
      "source": [
        "#\n",
        "# Sub_metering_1 is the kitchen and related\n",
        "# create a new DataFrame with the dates, times and these data\n",
        "#\n",
        "kitchen_elec = home_elec[['Date',\n",
        "                          'Time',\n",
        "                          'Sub_metering_1']]\n",
        "(kitchen_elec = \\\n",
        "     kitchen_elec.loc[kitchen_elec['Date'].\n",
        "                      str.contains('2009'), :])\n",
        "kitchen_elec.columns = ['Date',\n",
        "                        'Time',\n",
        "                        'Kitchen_power_use']\n",
        "kitchen_elec.head()"
      ]
    },
    {
      "cell_type": "code",
      "execution_count": null,
      "id": "73581e62",
      "metadata": {
        "id": "73581e62",
        "outputId": "0f057187-9d1d-4c98-e93e-fd60585990da"
      },
      "outputs": [
        {
          "data": {
            "text/html": [
              "<div>\n",
              "<style scoped>\n",
              "    .dataframe tbody tr th:only-of-type {\n",
              "        vertical-align: middle;\n",
              "    }\n",
              "\n",
              "    .dataframe tbody tr th {\n",
              "        vertical-align: top;\n",
              "    }\n",
              "\n",
              "    .dataframe thead th {\n",
              "        text-align: right;\n",
              "    }\n",
              "</style>\n",
              "<table border=\"1\" class=\"dataframe\">\n",
              "  <thead>\n",
              "    <tr style=\"text-align: right;\">\n",
              "      <th></th>\n",
              "      <th>Date</th>\n",
              "      <th>Time</th>\n",
              "      <th>Kitchen_power_use</th>\n",
              "      <th>timestamp</th>\n",
              "    </tr>\n",
              "  </thead>\n",
              "  <tbody>\n",
              "    <tr>\n",
              "      <th>1074636</th>\n",
              "      <td>1/1/2009</td>\n",
              "      <td>00:00:00</td>\n",
              "      <td>0.0</td>\n",
              "      <td>2009-01-01 00:00:00</td>\n",
              "    </tr>\n",
              "    <tr>\n",
              "      <th>1074637</th>\n",
              "      <td>1/1/2009</td>\n",
              "      <td>00:01:00</td>\n",
              "      <td>0.0</td>\n",
              "      <td>2009-01-01 00:01:00</td>\n",
              "    </tr>\n",
              "    <tr>\n",
              "      <th>1074638</th>\n",
              "      <td>1/1/2009</td>\n",
              "      <td>00:02:00</td>\n",
              "      <td>0.0</td>\n",
              "      <td>2009-01-01 00:02:00</td>\n",
              "    </tr>\n",
              "    <tr>\n",
              "      <th>1074639</th>\n",
              "      <td>1/1/2009</td>\n",
              "      <td>00:03:00</td>\n",
              "      <td>0.0</td>\n",
              "      <td>2009-01-01 00:03:00</td>\n",
              "    </tr>\n",
              "    <tr>\n",
              "      <th>1074640</th>\n",
              "      <td>1/1/2009</td>\n",
              "      <td>00:04:00</td>\n",
              "      <td>0.0</td>\n",
              "      <td>2009-01-01 00:04:00</td>\n",
              "    </tr>\n",
              "  </tbody>\n",
              "</table>\n",
              "</div>"
            ],
            "text/plain": [
              "             Date      Time  Kitchen_power_use           timestamp\n",
              "1074636  1/1/2009  00:00:00                0.0 2009-01-01 00:00:00\n",
              "1074637  1/1/2009  00:01:00                0.0 2009-01-01 00:01:00\n",
              "1074638  1/1/2009  00:02:00                0.0 2009-01-01 00:02:00\n",
              "1074639  1/1/2009  00:03:00                0.0 2009-01-01 00:03:00\n",
              "1074640  1/1/2009  00:04:00                0.0 2009-01-01 00:04:00"
            ]
          },
          "execution_count": 12,
          "metadata": {},
          "output_type": "execute_result"
        }
      ],
      "source": [
        "kitchen_elec.loc[:, 'timestamp'] = \\\n",
        "    pd.to_datetime(kitchen_elec.loc[:, 'Date'] + ' '\n",
        "                   + kitchen_elec.loc[:, 'Time'],\n",
        "                  dayfirst = True)\n",
        "kitchen_elec.sort_values('timestamp',\n",
        "                         inplace = True)\n",
        "kitchen_elec.head()"
      ]
    },
    {
      "cell_type": "code",
      "execution_count": null,
      "id": "42bdc098",
      "metadata": {
        "id": "42bdc098",
        "outputId": "28475cc5-1508-4ae2-b4da-42679f106872"
      },
      "outputs": [
        {
          "data": {
            "text/html": [
              "<div>\n",
              "<style scoped>\n",
              "    .dataframe tbody tr th:only-of-type {\n",
              "        vertical-align: middle;\n",
              "    }\n",
              "\n",
              "    .dataframe tbody tr th {\n",
              "        vertical-align: top;\n",
              "    }\n",
              "\n",
              "    .dataframe thead th {\n",
              "        text-align: right;\n",
              "    }\n",
              "</style>\n",
              "<table border=\"1\" class=\"dataframe\">\n",
              "  <thead>\n",
              "    <tr style=\"text-align: right;\">\n",
              "      <th></th>\n",
              "      <th>Date</th>\n",
              "      <th>Time</th>\n",
              "      <th>Kitchen_power_use</th>\n",
              "      <th>timestamp</th>\n",
              "      <th>hour</th>\n",
              "      <th>date</th>\n",
              "    </tr>\n",
              "  </thead>\n",
              "  <tbody>\n",
              "    <tr>\n",
              "      <th>1074636</th>\n",
              "      <td>1/1/2009</td>\n",
              "      <td>00:00:00</td>\n",
              "      <td>0.0</td>\n",
              "      <td>2009-01-01 00:00:00</td>\n",
              "      <td>0</td>\n",
              "      <td>2009-01-01</td>\n",
              "    </tr>\n",
              "    <tr>\n",
              "      <th>1074637</th>\n",
              "      <td>1/1/2009</td>\n",
              "      <td>00:01:00</td>\n",
              "      <td>0.0</td>\n",
              "      <td>2009-01-01 00:01:00</td>\n",
              "      <td>0</td>\n",
              "      <td>2009-01-01</td>\n",
              "    </tr>\n",
              "    <tr>\n",
              "      <th>1074638</th>\n",
              "      <td>1/1/2009</td>\n",
              "      <td>00:02:00</td>\n",
              "      <td>0.0</td>\n",
              "      <td>2009-01-01 00:02:00</td>\n",
              "      <td>0</td>\n",
              "      <td>2009-01-01</td>\n",
              "    </tr>\n",
              "    <tr>\n",
              "      <th>1074639</th>\n",
              "      <td>1/1/2009</td>\n",
              "      <td>00:03:00</td>\n",
              "      <td>0.0</td>\n",
              "      <td>2009-01-01 00:03:00</td>\n",
              "      <td>0</td>\n",
              "      <td>2009-01-01</td>\n",
              "    </tr>\n",
              "    <tr>\n",
              "      <th>1074640</th>\n",
              "      <td>1/1/2009</td>\n",
              "      <td>00:04:00</td>\n",
              "      <td>0.0</td>\n",
              "      <td>2009-01-01 00:04:00</td>\n",
              "      <td>0</td>\n",
              "      <td>2009-01-01</td>\n",
              "    </tr>\n",
              "  </tbody>\n",
              "</table>\n",
              "</div>"
            ],
            "text/plain": [
              "             Date      Time  Kitchen_power_use           timestamp  hour  \\\n",
              "1074636  1/1/2009  00:00:00                0.0 2009-01-01 00:00:00     0   \n",
              "1074637  1/1/2009  00:01:00                0.0 2009-01-01 00:01:00     0   \n",
              "1074638  1/1/2009  00:02:00                0.0 2009-01-01 00:02:00     0   \n",
              "1074639  1/1/2009  00:03:00                0.0 2009-01-01 00:03:00     0   \n",
              "1074640  1/1/2009  00:04:00                0.0 2009-01-01 00:04:00     0   \n",
              "\n",
              "               date  \n",
              "1074636  2009-01-01  \n",
              "1074637  2009-01-01  \n",
              "1074638  2009-01-01  \n",
              "1074639  2009-01-01  \n",
              "1074640  2009-01-01  "
            ]
          },
          "execution_count": 13,
          "metadata": {},
          "output_type": "execute_result"
        }
      ],
      "source": [
        "#\n",
        "# create an hours column\n",
        "#\n",
        "kitchen_elec['hour'] = \\\n",
        "    kitchen_elec['timestamp'].dt.hour\n",
        "#\n",
        "# create a date column in the standard format\n",
        "#\n",
        "kitchen_elec['date'] = \\\n",
        "    kitchen_elec['timestamp'].dt.date\n",
        "kitchen_elec.head()"
      ]
    },
    {
      "cell_type": "code",
      "execution_count": null,
      "id": "58b83186",
      "metadata": {
        "id": "58b83186",
        "outputId": "799511a1-c80c-4b66-da5e-0a035cda3359"
      },
      "outputs": [
        {
          "data": {
            "text/html": [
              "<div>\n",
              "<style scoped>\n",
              "    .dataframe tbody tr th:only-of-type {\n",
              "        vertical-align: middle;\n",
              "    }\n",
              "\n",
              "    .dataframe tbody tr th {\n",
              "        vertical-align: top;\n",
              "    }\n",
              "\n",
              "    .dataframe thead th {\n",
              "        text-align: right;\n",
              "    }\n",
              "</style>\n",
              "<table border=\"1\" class=\"dataframe\">\n",
              "  <thead>\n",
              "    <tr style=\"text-align: right;\">\n",
              "      <th></th>\n",
              "      <th>date</th>\n",
              "      <th>hour</th>\n",
              "      <th>Kitchen_power_use</th>\n",
              "    </tr>\n",
              "  </thead>\n",
              "  <tbody>\n",
              "    <tr>\n",
              "      <th>20</th>\n",
              "      <td>2009-01-01</td>\n",
              "      <td>20</td>\n",
              "      <td>0.0</td>\n",
              "    </tr>\n",
              "    <tr>\n",
              "      <th>21</th>\n",
              "      <td>2009-01-01</td>\n",
              "      <td>21</td>\n",
              "      <td>0.0</td>\n",
              "    </tr>\n",
              "    <tr>\n",
              "      <th>22</th>\n",
              "      <td>2009-01-01</td>\n",
              "      <td>22</td>\n",
              "      <td>0.0</td>\n",
              "    </tr>\n",
              "    <tr>\n",
              "      <th>23</th>\n",
              "      <td>2009-01-01</td>\n",
              "      <td>23</td>\n",
              "      <td>0.0</td>\n",
              "    </tr>\n",
              "    <tr>\n",
              "      <th>24</th>\n",
              "      <td>2009-01-02</td>\n",
              "      <td>0</td>\n",
              "      <td>0.0</td>\n",
              "    </tr>\n",
              "    <tr>\n",
              "      <th>25</th>\n",
              "      <td>2009-01-02</td>\n",
              "      <td>1</td>\n",
              "      <td>0.0</td>\n",
              "    </tr>\n",
              "    <tr>\n",
              "      <th>26</th>\n",
              "      <td>2009-01-02</td>\n",
              "      <td>2</td>\n",
              "      <td>0.0</td>\n",
              "    </tr>\n",
              "    <tr>\n",
              "      <th>27</th>\n",
              "      <td>2009-01-02</td>\n",
              "      <td>3</td>\n",
              "      <td>0.0</td>\n",
              "    </tr>\n",
              "  </tbody>\n",
              "</table>\n",
              "</div>"
            ],
            "text/plain": [
              "          date  hour  Kitchen_power_use\n",
              "20  2009-01-01    20                0.0\n",
              "21  2009-01-01    21                0.0\n",
              "22  2009-01-01    22                0.0\n",
              "23  2009-01-01    23                0.0\n",
              "24  2009-01-02     0                0.0\n",
              "25  2009-01-02     1                0.0\n",
              "26  2009-01-02     2                0.0\n",
              "27  2009-01-02     3                0.0"
            ]
          },
          "execution_count": 14,
          "metadata": {},
          "output_type": "execute_result"
        }
      ],
      "source": [
        "kitchen_elec = \\\n",
        "    (kitchen_elec[['date',\n",
        "                  'hour',\n",
        "                  'Kitchen_power_use']].\n",
        "                  groupby(['date',\n",
        "                           'hour']).sum())\n",
        "kitchen_elec.reset_index(inplace = True)\n",
        "kitchen_elec.iloc[20:28, :]"
      ]
    },
    {
      "cell_type": "code",
      "execution_count": null,
      "id": "2c64926d",
      "metadata": {
        "id": "2c64926d",
        "outputId": "0bd8c5b1-cdb9-43ec-c464-f932852dfdeb"
      },
      "outputs": [
        {
          "data": {
            "text/plain": [
              "<AxesSubplot:xlabel='hour'>"
            ]
          },
          "execution_count": 15,
          "metadata": {},
          "output_type": "execute_result"
        },
        {
          "data": {
            "image/png": "[encoded data removed]",
            "text/plain": [
              "<Figure size 432x288 with 1 Axes>"
            ]
          },
          "metadata": {
            "needs_background": "light"
          },
          "output_type": "display_data"
        }
      ],
      "source": [
        "#\n",
        "# aggregate values by hour for January\n",
        "#\n",
        "(kitchen_elec.loc[((kitchen_elec['date'] >=\n",
        "                    pd.to_datetime('2009-01-01')) &\n",
        "                   (kitchen_elec['date'] <\n",
        "                    pd.to_datetime('2009-02-01'))),\n",
        "                  ['hour',\n",
        "                   'Kitchen_power_use']].\n",
        "                   groupby('hour').mean().plot(kind =\n",
        "                                               'bar'))"
      ]
    },
    {
      "cell_type": "code",
      "execution_count": null,
      "id": "eee40bbf",
      "metadata": {
        "id": "eee40bbf",
        "outputId": "9b76d434-108d-478f-c29c-2392082ac804"
      },
      "outputs": [
        {
          "data": {
            "text/plain": [
              "<AxesSubplot:xlabel='hour'>"
            ]
          },
          "execution_count": 16,
          "metadata": {},
          "output_type": "execute_result"
        },
        {
          "data": {
            "image/png": "[encoded data removed]",
            "text/plain": [
              "<Figure size 432x288 with 1 Axes>"
            ]
          },
          "metadata": {
            "needs_background": "light"
          },
          "output_type": "display_data"
        }
      ],
      "source": [
        "#\n",
        "# aggregate values by hour for the entire year\n",
        "#\n",
        "(kitchen_elec.loc[:,\n",
        "                  ['hour',\n",
        "                   'Kitchen_power_use']].\n",
        "                    groupby('hour').mean().plot(kind =\n",
        "                                                'bar'))"
      ]
    },
    {
      "cell_type": "code",
      "execution_count": null,
      "id": "8542d7e2",
      "metadata": {
        "id": "8542d7e2"
      },
      "outputs": [],
      "source": []
    }
  ],
  "metadata": {
    "kernelspec": {
      "display_name": "Python 3",
      "language": "python",
      "name": "python3"
    },
    "language_info": {
      "codemirror_mode": {
        "name": "ipython",
        "version": 3
      },
      "file_extension": ".py",
      "mimetype": "text/x-python",
      "name": "python",
      "nbconvert_exporter": "python",
      "pygments_lexer": "ipython3",
      "version": "3.8.10"
    },
    "colab": {
      "provenance": [],
      "include_colab_link": true
    }
  },
  "nbformat": 4,
  "nbformat_minor": 5
}
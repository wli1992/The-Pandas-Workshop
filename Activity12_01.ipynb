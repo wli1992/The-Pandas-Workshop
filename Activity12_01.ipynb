{
  "cells": [
    {
      "cell_type": "markdown",
      "metadata": {
        "id": "view-in-github",
        "colab_type": "text"
      },
      "source": [
        "<a href=\"https://colab.research.google.com/github/wli1992/The-Pandas-Workshop/blob/main/Activity12_01.ipynb\" target=\"_parent\"><img src=\"https://colab.research.google.com/assets/colab-badge.svg\" alt=\"Open In Colab\"/></a>"
      ]
    },
    {
      "cell_type": "code",
      "execution_count": null,
      "metadata": {
        "id": "5WCXfrkDA9Ki"
      },
      "outputs": [],
      "source": [
        "#\n",
        "# libraries\n",
        "#\n",
        "import pandas as pd\n",
        "import matplotlib.pyplot as plt\n",
        "from sklearn.linear_model import LinearRegression"
      ]
    },
    {
      "cell_type": "code",
      "execution_count": null,
      "metadata": {
        "id": "qCTssXK1A9Kk",
        "outputId": "977e93ba-7fcb-416d-db2b-1f7b3718904d"
      },
      "outputs": [
        {
          "data": {
            "text/html": [
              "<div>\n",
              "<style scoped>\n",
              "    .dataframe tbody tr th:only-of-type {\n",
              "        vertical-align: middle;\n",
              "    }\n",
              "\n",
              "    .dataframe tbody tr th {\n",
              "        vertical-align: top;\n",
              "    }\n",
              "\n",
              "    .dataframe thead th {\n",
              "        text-align: right;\n",
              "    }\n",
              "</style>\n",
              "<table border=\"1\" class=\"dataframe\">\n",
              "  <thead>\n",
              "    <tr style=\"text-align: right;\">\n",
              "      <th></th>\n",
              "      <th>date</th>\n",
              "      <th>hour</th>\n",
              "      <th>rentals</th>\n",
              "    </tr>\n",
              "  </thead>\n",
              "  <tbody>\n",
              "    <tr>\n",
              "      <th>0</th>\n",
              "      <td>1/1/2011</td>\n",
              "      <td>0</td>\n",
              "      <td>16</td>\n",
              "    </tr>\n",
              "    <tr>\n",
              "      <th>1</th>\n",
              "      <td>1/1/2011</td>\n",
              "      <td>1</td>\n",
              "      <td>40</td>\n",
              "    </tr>\n",
              "    <tr>\n",
              "      <th>2</th>\n",
              "      <td>1/1/2011</td>\n",
              "      <td>2</td>\n",
              "      <td>32</td>\n",
              "    </tr>\n",
              "    <tr>\n",
              "      <th>3</th>\n",
              "      <td>1/1/2011</td>\n",
              "      <td>3</td>\n",
              "      <td>13</td>\n",
              "    </tr>\n",
              "    <tr>\n",
              "      <th>4</th>\n",
              "      <td>1/1/2011</td>\n",
              "      <td>4</td>\n",
              "      <td>1</td>\n",
              "    </tr>\n",
              "  </tbody>\n",
              "</table>\n",
              "</div>"
            ],
            "text/plain": [
              "       date  hour  rentals\n",
              "0  1/1/2011     0       16\n",
              "1  1/1/2011     1       40\n",
              "2  1/1/2011     2       32\n",
              "3  1/1/2011     3       13\n",
              "4  1/1/2011     4        1"
            ]
          },
          "execution_count": 155,
          "metadata": {},
          "output_type": "execute_result"
        }
      ],
      "source": [
        "#\n",
        "# load data\n",
        "#\n",
        "rental_data = pd.read_csv('../Datasets/bike_share.csv')\n",
        "rental_data.head()"
      ]
    },
    {
      "cell_type": "code",
      "execution_count": null,
      "metadata": {
        "id": "3GNEFTQSA9Kl",
        "outputId": "6b4f2b48-dc82-43bc-f927-f2ed645bd03f"
      },
      "outputs": [
        {
          "data": {
            "text/html": [
              "<div>\n",
              "<style scoped>\n",
              "    .dataframe tbody tr th:only-of-type {\n",
              "        vertical-align: middle;\n",
              "    }\n",
              "\n",
              "    .dataframe tbody tr th {\n",
              "        vertical-align: top;\n",
              "    }\n",
              "\n",
              "    .dataframe thead th {\n",
              "        text-align: right;\n",
              "    }\n",
              "</style>\n",
              "<table border=\"1\" class=\"dataframe\">\n",
              "  <thead>\n",
              "    <tr style=\"text-align: right;\">\n",
              "      <th></th>\n",
              "      <th>date</th>\n",
              "      <th>hour</th>\n",
              "      <th>rentals</th>\n",
              "      <th>date_time</th>\n",
              "    </tr>\n",
              "    <tr>\n",
              "      <th>date_time</th>\n",
              "      <th></th>\n",
              "      <th></th>\n",
              "      <th></th>\n",
              "      <th></th>\n",
              "    </tr>\n",
              "  </thead>\n",
              "  <tbody>\n",
              "    <tr>\n",
              "      <th>2011-01-01 00:00:00</th>\n",
              "      <td>1/1/2011</td>\n",
              "      <td>0</td>\n",
              "      <td>16</td>\n",
              "      <td>1/1/2011 00:00:00</td>\n",
              "    </tr>\n",
              "    <tr>\n",
              "      <th>2011-01-01 01:00:00</th>\n",
              "      <td>1/1/2011</td>\n",
              "      <td>1</td>\n",
              "      <td>40</td>\n",
              "      <td>1/1/2011 01:00:00</td>\n",
              "    </tr>\n",
              "    <tr>\n",
              "      <th>2011-01-01 02:00:00</th>\n",
              "      <td>1/1/2011</td>\n",
              "      <td>2</td>\n",
              "      <td>32</td>\n",
              "      <td>1/1/2011 02:00:00</td>\n",
              "    </tr>\n",
              "    <tr>\n",
              "      <th>2011-01-01 03:00:00</th>\n",
              "      <td>1/1/2011</td>\n",
              "      <td>3</td>\n",
              "      <td>13</td>\n",
              "      <td>1/1/2011 03:00:00</td>\n",
              "    </tr>\n",
              "    <tr>\n",
              "      <th>2011-01-01 04:00:00</th>\n",
              "      <td>1/1/2011</td>\n",
              "      <td>4</td>\n",
              "      <td>1</td>\n",
              "      <td>1/1/2011 04:00:00</td>\n",
              "    </tr>\n",
              "    <tr>\n",
              "      <th>...</th>\n",
              "      <td>...</td>\n",
              "      <td>...</td>\n",
              "      <td>...</td>\n",
              "      <td>...</td>\n",
              "    </tr>\n",
              "    <tr>\n",
              "      <th>2012-12-31 19:00:00</th>\n",
              "      <td>12/31/2012</td>\n",
              "      <td>19</td>\n",
              "      <td>119</td>\n",
              "      <td>12/31/2012 19:00:00</td>\n",
              "    </tr>\n",
              "    <tr>\n",
              "      <th>2012-12-31 20:00:00</th>\n",
              "      <td>12/31/2012</td>\n",
              "      <td>20</td>\n",
              "      <td>89</td>\n",
              "      <td>12/31/2012 20:00:00</td>\n",
              "    </tr>\n",
              "    <tr>\n",
              "      <th>2012-12-31 21:00:00</th>\n",
              "      <td>12/31/2012</td>\n",
              "      <td>21</td>\n",
              "      <td>90</td>\n",
              "      <td>12/31/2012 21:00:00</td>\n",
              "    </tr>\n",
              "    <tr>\n",
              "      <th>2012-12-31 22:00:00</th>\n",
              "      <td>12/31/2012</td>\n",
              "      <td>22</td>\n",
              "      <td>61</td>\n",
              "      <td>12/31/2012 22:00:00</td>\n",
              "    </tr>\n",
              "    <tr>\n",
              "      <th>2012-12-31 23:00:00</th>\n",
              "      <td>12/31/2012</td>\n",
              "      <td>23</td>\n",
              "      <td>49</td>\n",
              "      <td>12/31/2012 23:00:00</td>\n",
              "    </tr>\n",
              "  </tbody>\n",
              "</table>\n",
              "<p>17379 rows × 4 columns</p>\n",
              "</div>"
            ],
            "text/plain": [
              "                           date  hour  rentals            date_time\n",
              "date_time                                                          \n",
              "2011-01-01 00:00:00    1/1/2011     0       16    1/1/2011 00:00:00\n",
              "2011-01-01 01:00:00    1/1/2011     1       40    1/1/2011 01:00:00\n",
              "2011-01-01 02:00:00    1/1/2011     2       32    1/1/2011 02:00:00\n",
              "2011-01-01 03:00:00    1/1/2011     3       13    1/1/2011 03:00:00\n",
              "2011-01-01 04:00:00    1/1/2011     4        1    1/1/2011 04:00:00\n",
              "...                         ...   ...      ...                  ...\n",
              "2012-12-31 19:00:00  12/31/2012    19      119  12/31/2012 19:00:00\n",
              "2012-12-31 20:00:00  12/31/2012    20       89  12/31/2012 20:00:00\n",
              "2012-12-31 21:00:00  12/31/2012    21       90  12/31/2012 21:00:00\n",
              "2012-12-31 22:00:00  12/31/2012    22       61  12/31/2012 22:00:00\n",
              "2012-12-31 23:00:00  12/31/2012    23       49  12/31/2012 23:00:00\n",
              "\n",
              "[17379 rows x 4 columns]"
            ]
          },
          "execution_count": 156,
          "metadata": {},
          "output_type": "execute_result"
        }
      ],
      "source": [
        "rental_data['date_time'] = \\\n",
        "[(rental_data.date[i] +\n",
        "  ' ' +\n",
        "  '{:02}'.format(rental_data.hour[i]) +\n",
        "  ':00:00')\n",
        " for i in rental_data.index]\n",
        "rental_data.set_index(pd.to_datetime(rental_data['date_time']),\n",
        "                     inplace = True,\n",
        "                     drop = True)\n",
        "rental_data"
      ]
    },
    {
      "cell_type": "code",
      "execution_count": null,
      "metadata": {
        "id": "5F6FeSY0A9Km",
        "outputId": "f95adc52-1143-45d2-8c11-7e3bdf4c2a4c"
      },
      "outputs": [
        {
          "data": {
            "text/plain": [
              "<matplotlib.axes._subplots.AxesSubplot at 0x25a41b7e948>"
            ]
          },
          "execution_count": 149,
          "metadata": {},
          "output_type": "execute_result"
        },
        {
          "data": {
            "image/png": "[encoded data removed]",
            "text/plain": [
              "<Figure size 432x288 with 1 Axes>"
            ]
          },
          "metadata": {
            "needs_background": "light"
          },
          "output_type": "display_data"
        }
      ],
      "source": [
        "rental_data['rentals'][:240].plot()"
      ]
    },
    {
      "cell_type": "code",
      "execution_count": null,
      "metadata": {
        "id": "QBj4b-79A9Kn",
        "outputId": "978fc1f2-f803-4727-c7b0-36d3d973831b"
      },
      "outputs": [
        {
          "data": {
            "text/html": [
              "<div>\n",
              "<style scoped>\n",
              "    .dataframe tbody tr th:only-of-type {\n",
              "        vertical-align: middle;\n",
              "    }\n",
              "\n",
              "    .dataframe tbody tr th {\n",
              "        vertical-align: top;\n",
              "    }\n",
              "\n",
              "    .dataframe thead th {\n",
              "        text-align: right;\n",
              "    }\n",
              "</style>\n",
              "<table border=\"1\" class=\"dataframe\">\n",
              "  <thead>\n",
              "    <tr style=\"text-align: right;\">\n",
              "      <th></th>\n",
              "      <th>rentals</th>\n",
              "    </tr>\n",
              "    <tr>\n",
              "      <th>date_time</th>\n",
              "      <th></th>\n",
              "    </tr>\n",
              "  </thead>\n",
              "  <tbody>\n",
              "    <tr>\n",
              "      <th>2011-01-01</th>\n",
              "      <td>985</td>\n",
              "    </tr>\n",
              "    <tr>\n",
              "      <th>2011-01-02</th>\n",
              "      <td>801</td>\n",
              "    </tr>\n",
              "    <tr>\n",
              "      <th>2011-01-03</th>\n",
              "      <td>1349</td>\n",
              "    </tr>\n",
              "    <tr>\n",
              "      <th>2011-01-04</th>\n",
              "      <td>1562</td>\n",
              "    </tr>\n",
              "    <tr>\n",
              "      <th>2011-01-05</th>\n",
              "      <td>1600</td>\n",
              "    </tr>\n",
              "    <tr>\n",
              "      <th>2011-01-06</th>\n",
              "      <td>1606</td>\n",
              "    </tr>\n",
              "    <tr>\n",
              "      <th>2011-01-07</th>\n",
              "      <td>1510</td>\n",
              "    </tr>\n",
              "    <tr>\n",
              "      <th>2011-01-08</th>\n",
              "      <td>959</td>\n",
              "    </tr>\n",
              "    <tr>\n",
              "      <th>2011-01-09</th>\n",
              "      <td>822</td>\n",
              "    </tr>\n",
              "    <tr>\n",
              "      <th>2011-01-10</th>\n",
              "      <td>1321</td>\n",
              "    </tr>\n",
              "    <tr>\n",
              "      <th>2011-01-11</th>\n",
              "      <td>1263</td>\n",
              "    </tr>\n",
              "    <tr>\n",
              "      <th>2011-01-12</th>\n",
              "      <td>1162</td>\n",
              "    </tr>\n",
              "    <tr>\n",
              "      <th>2011-01-13</th>\n",
              "      <td>1406</td>\n",
              "    </tr>\n",
              "    <tr>\n",
              "      <th>2011-01-14</th>\n",
              "      <td>1421</td>\n",
              "    </tr>\n",
              "  </tbody>\n",
              "</table>\n",
              "</div>"
            ],
            "text/plain": [
              "            rentals\n",
              "date_time          \n",
              "2011-01-01      985\n",
              "2011-01-02      801\n",
              "2011-01-03     1349\n",
              "2011-01-04     1562\n",
              "2011-01-05     1600\n",
              "2011-01-06     1606\n",
              "2011-01-07     1510\n",
              "2011-01-08      959\n",
              "2011-01-09      822\n",
              "2011-01-10     1321\n",
              "2011-01-11     1263\n",
              "2011-01-12     1162\n",
              "2011-01-13     1406\n",
              "2011-01-14     1421"
            ]
          },
          "execution_count": 150,
          "metadata": {},
          "output_type": "execute_result"
        }
      ],
      "source": [
        "rental_data = pd.DataFrame(rental_data['rentals'].resample('1d').sum())\n",
        "rental_data.head(14)"
      ]
    },
    {
      "cell_type": "code",
      "execution_count": null,
      "metadata": {
        "id": "-1JpJmj5A9Ko",
        "outputId": "48b6d739-582f-435b-85b2-e120458b963c"
      },
      "outputs": [
        {
          "data": {
            "text/plain": [
              "<matplotlib.axes._subplots.AxesSubplot at 0x25a41e78048>"
            ]
          },
          "execution_count": 151,
          "metadata": {},
          "output_type": "execute_result"
        },
        {
          "data": {
            "image/png": "[encoded data removed]",
            "text/plain": [
              "<Figure size 432x288 with 1 Axes>"
            ]
          },
          "metadata": {
            "needs_background": "light"
          },
          "output_type": "display_data"
        }
      ],
      "source": [
        "rental_data[:56].plot()"
      ]
    },
    {
      "cell_type": "code",
      "execution_count": null,
      "metadata": {
        "id": "gvKYN_GOA9Ko",
        "outputId": "0e249e22-ae65-47b9-daa8-a02a9a0380f6"
      },
      "outputs": [
        {
          "data": {
            "image/png": "[encoded data removed]",
            "text/plain": [
              "<Figure size 432x288 with 1 Axes>"
            ]
          },
          "metadata": {
            "needs_background": "light"
          },
          "output_type": "display_data"
        }
      ],
      "source": [
        "fig, ax = plt.subplots()\n",
        "ax.scatter(rental_data['rentals'][:(rental_data.shape[0] - 7)],\n",
        "          rental_data['rentals'][7:])\n",
        "ax.set_title('Rentals vs. rentals 7 days ago')\n",
        "plt.show()"
      ]
    },
    {
      "cell_type": "code",
      "execution_count": null,
      "metadata": {
        "id": "dltDhgKcA9Kp",
        "outputId": "9e9d70e5-d189-4270-df5e-0a63a452a8fb"
      },
      "outputs": [
        {
          "data": {
            "text/html": [
              "<div>\n",
              "<style scoped>\n",
              "    .dataframe tbody tr th:only-of-type {\n",
              "        vertical-align: middle;\n",
              "    }\n",
              "\n",
              "    .dataframe tbody tr th {\n",
              "        vertical-align: top;\n",
              "    }\n",
              "\n",
              "    .dataframe thead th {\n",
              "        text-align: right;\n",
              "    }\n",
              "</style>\n",
              "<table border=\"1\" class=\"dataframe\">\n",
              "  <thead>\n",
              "    <tr style=\"text-align: right;\">\n",
              "      <th></th>\n",
              "      <th>rentals</th>\n",
              "      <th>lagged_rentals</th>\n",
              "    </tr>\n",
              "    <tr>\n",
              "      <th>date_time</th>\n",
              "      <th></th>\n",
              "      <th></th>\n",
              "    </tr>\n",
              "  </thead>\n",
              "  <tbody>\n",
              "    <tr>\n",
              "      <th>2011-01-01</th>\n",
              "      <td>985</td>\n",
              "      <td>NaN</td>\n",
              "    </tr>\n",
              "    <tr>\n",
              "      <th>2011-01-02</th>\n",
              "      <td>801</td>\n",
              "      <td>NaN</td>\n",
              "    </tr>\n",
              "    <tr>\n",
              "      <th>2011-01-03</th>\n",
              "      <td>1349</td>\n",
              "      <td>NaN</td>\n",
              "    </tr>\n",
              "    <tr>\n",
              "      <th>2011-01-04</th>\n",
              "      <td>1562</td>\n",
              "      <td>NaN</td>\n",
              "    </tr>\n",
              "    <tr>\n",
              "      <th>2011-01-05</th>\n",
              "      <td>1600</td>\n",
              "      <td>NaN</td>\n",
              "    </tr>\n",
              "    <tr>\n",
              "      <th>...</th>\n",
              "      <td>...</td>\n",
              "      <td>...</td>\n",
              "    </tr>\n",
              "    <tr>\n",
              "      <th>2012-12-27</th>\n",
              "      <td>2114</td>\n",
              "      <td>4128.0</td>\n",
              "    </tr>\n",
              "    <tr>\n",
              "      <th>2012-12-28</th>\n",
              "      <td>3095</td>\n",
              "      <td>3623.0</td>\n",
              "    </tr>\n",
              "    <tr>\n",
              "      <th>2012-12-29</th>\n",
              "      <td>1341</td>\n",
              "      <td>1749.0</td>\n",
              "    </tr>\n",
              "    <tr>\n",
              "      <th>2012-12-30</th>\n",
              "      <td>1796</td>\n",
              "      <td>1787.0</td>\n",
              "    </tr>\n",
              "    <tr>\n",
              "      <th>2012-12-31</th>\n",
              "      <td>2729</td>\n",
              "      <td>920.0</td>\n",
              "    </tr>\n",
              "  </tbody>\n",
              "</table>\n",
              "<p>731 rows × 2 columns</p>\n",
              "</div>"
            ],
            "text/plain": [
              "            rentals  lagged_rentals\n",
              "date_time                          \n",
              "2011-01-01      985             NaN\n",
              "2011-01-02      801             NaN\n",
              "2011-01-03     1349             NaN\n",
              "2011-01-04     1562             NaN\n",
              "2011-01-05     1600             NaN\n",
              "...             ...             ...\n",
              "2012-12-27     2114          4128.0\n",
              "2012-12-28     3095          3623.0\n",
              "2012-12-29     1341          1749.0\n",
              "2012-12-30     1796          1787.0\n",
              "2012-12-31     2729           920.0\n",
              "\n",
              "[731 rows x 2 columns]"
            ]
          },
          "execution_count": 153,
          "metadata": {},
          "output_type": "execute_result"
        }
      ],
      "source": [
        "lagged_rentals =\\\n",
        "    rental_data['rentals'][:(rental_data.shape[0] - 7)]\n",
        "lagged_rentals.index = rental_data.index[7:]\n",
        "rental_data['lagged_rentals'] = lagged_rentals\n",
        "rental_data"
      ]
    },
    {
      "cell_type": "code",
      "execution_count": null,
      "metadata": {
        "id": "AnIsFFIpA9Kq",
        "outputId": "f76f812d-e2f7-486b-9ec6-56208d752f21"
      },
      "outputs": [
        {
          "name": "stdout",
          "output_type": "stream",
          "text": [
            "R2 is  0.5145071365683822  using:\n",
            "            rentals  lagged_rentals\n",
            "date_time                          \n",
            "2011-01-08      959           985.0\n",
            "2011-01-09      822           801.0\n",
            "2011-01-10     1321          1349.0\n",
            "2011-01-11     1263          1562.0\n",
            "2011-01-12     1162          1600.0\n"
          ]
        }
      ],
      "source": [
        "model_data = rental_data.copy()[rental_data['lagged_rentals'].isna() == False]\n",
        "lagged_model = LinearRegression()\n",
        "lagged_model.fit(model_data['lagged_rentals'].values.reshape(-1, 1),\n",
        "                 model_data['rentals'].values.reshape(-1, 1))\n",
        "model_data['predicted'] =\\\n",
        "    lagged_model.predict(model_data['lagged_rentals'].values.reshape(-1, 1))\n",
        "R2 = lagged_model.score(model_data['rentals'].values.reshape(-1, 1),\n",
        "                        model_data['predicted'].values.reshape(-1, 1))\n",
        "print('R2 is ', R2, ' using:')\n",
        "print(model_data[['rentals', 'lagged_rentals']].head())"
      ]
    },
    {
      "cell_type": "code",
      "execution_count": null,
      "metadata": {
        "id": "8QASyfDcA9Kq",
        "outputId": "7ffb4a91-fc01-46ab-83f8-88dac00616aa"
      },
      "outputs": [
        {
          "data": {
            "image/png": "[encoded data removed]",
            "text/plain": [
              "<Figure size 432x288 with 1 Axes>"
            ]
          },
          "metadata": {
            "needs_background": "light"
          },
          "output_type": "display_data"
        }
      ],
      "source": [
        "fig, ax = plt.subplots()\n",
        "ax.scatter(model_data['rentals'],\n",
        "           model_data['predicted'])\n",
        "xlim = (0, max(pd.concat([model_data['predicted'],\n",
        "                          model_data['rentals']])))\n",
        "ylim = xlim\n",
        "ax.set_xlim(xlim)\n",
        "ax.set_ylim(ylim)\n",
        "ax.plot([xlim[0], xlim[1]],\n",
        "        [ylim[0], ylim[1]],\n",
        "       color = 'red')\n",
        "ax.set_title('Predicted vs. Actual Rentals\\n' +\n",
        "             'R2 = ' + str(round(R2, 2)))\n",
        "ax.set_xlabel('Actual Rentals per day')\n",
        "ax.set_ylabel('Predicted Rentals per day')\n",
        "plt.show()"
      ]
    },
    {
      "cell_type": "code",
      "execution_count": null,
      "metadata": {
        "id": "hIwntEtsA9Kr"
      },
      "outputs": [],
      "source": []
    }
  ],
  "metadata": {
    "kernelspec": {
      "display_name": "Python 3",
      "language": "python",
      "name": "python3"
    },
    "language_info": {
      "codemirror_mode": {
        "name": "ipython",
        "version": 3
      },
      "file_extension": ".py",
      "mimetype": "text/x-python",
      "name": "python",
      "nbconvert_exporter": "python",
      "pygments_lexer": "ipython3",
      "version": "3.8.10"
    },
    "toc": {
      "base_numbering": 1,
      "nav_menu": {},
      "number_sections": true,
      "sideBar": true,
      "skip_h1_title": false,
      "title_cell": "Table of Contents",
      "title_sidebar": "Contents",
      "toc_cell": false,
      "toc_position": {},
      "toc_section_display": true,
      "toc_window_display": true
    },
    "varInspector": {
      "cols": {
        "lenName": 16,
        "lenType": 16,
        "lenVar": 40
      },
      "kernels_config": {
        "python": {
          "delete_cmd_postfix": "",
          "delete_cmd_prefix": "del ",
          "library": "var_list.py",
          "varRefreshCmd": "print(var_dic_list())"
        },
        "r": {
          "delete_cmd_postfix": ") ",
          "delete_cmd_prefix": "rm(",
          "library": "var_list.r",
          "varRefreshCmd": "cat(var_dic_list()) "
        }
      },
      "position": {
        "height": "144.667px",
        "left": "651.667px",
        "right": "20px",
        "top": "119px",
        "width": "350px"
      },
      "types_to_exclude": [
        "module",
        "function",
        "builtin_function_or_method",
        "instance",
        "_Feature"
      ],
      "window_display": false
    },
    "colab": {
      "provenance": [],
      "include_colab_link": true
    }
  },
  "nbformat": 4,
  "nbformat_minor": 0
}